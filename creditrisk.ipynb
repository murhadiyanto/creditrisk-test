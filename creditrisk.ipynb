{
 "cells": [
  {
   "cell_type": "markdown",
   "metadata": {},
   "source": [
    "#  IMPORT LIBRARY"
   ]
  },
  {
   "cell_type": "code",
   "execution_count": 1,
   "metadata": {},
   "outputs": [],
   "source": [
    "# main library\n",
    "import pandas as pd\n",
    "import numpy as np\n",
    "\n",
    "#visual library\n",
    "import seaborn as sns \n",
    "%matplotlib inline\n",
    "import matplotlib.pyplot as plt\n",
    "\n",
    "#sklearn library\n",
    "from sklearn.preprocessing import LabelEncoder"
   ]
  },
  {
   "cell_type": "markdown",
   "metadata": {},
   "source": [
    "# PRE-PROCESSING DATA"
   ]
  },
  {
   "cell_type": "code",
   "execution_count": 2,
   "metadata": {},
   "outputs": [],
   "source": [
    "df_test = pd.read_csv('DS2/app_test.csv')\n",
    "df_train = pd.read_csv('DS2/app_train.csv')"
   ]
  },
  {
   "cell_type": "markdown",
   "metadata": {},
   "source": [
    "Read dataset"
   ]
  },
  {
   "cell_type": "code",
   "execution_count": 3,
   "metadata": {},
   "outputs": [
    {
     "data": {
      "text/html": [
       "<div>\n",
       "<style scoped>\n",
       "    .dataframe tbody tr th:only-of-type {\n",
       "        vertical-align: middle;\n",
       "    }\n",
       "\n",
       "    .dataframe tbody tr th {\n",
       "        vertical-align: top;\n",
       "    }\n",
       "\n",
       "    .dataframe thead th {\n",
       "        text-align: right;\n",
       "    }\n",
       "</style>\n",
       "<table border=\"1\" class=\"dataframe\">\n",
       "  <thead>\n",
       "    <tr style=\"text-align: right;\">\n",
       "      <th></th>\n",
       "      <th>Unnamed: 0</th>\n",
       "      <th>LN_ID</th>\n",
       "      <th>TARGET</th>\n",
       "      <th>CONTRACT_TYPE</th>\n",
       "      <th>GENDER</th>\n",
       "      <th>NUM_CHILDREN</th>\n",
       "      <th>INCOME</th>\n",
       "      <th>APPROVED_CREDIT</th>\n",
       "      <th>ANNUITY</th>\n",
       "      <th>PRICE</th>\n",
       "      <th>...</th>\n",
       "      <th>DAYS_AGE</th>\n",
       "      <th>DAYS_WORK</th>\n",
       "      <th>DAYS_REGISTRATION</th>\n",
       "      <th>DAYS_ID_CHANGE</th>\n",
       "      <th>WEEKDAYS_APPLY</th>\n",
       "      <th>HOUR_APPLY</th>\n",
       "      <th>ORGANIZATION_TYPE</th>\n",
       "      <th>EXT_SCORE_1</th>\n",
       "      <th>EXT_SCORE_2</th>\n",
       "      <th>EXT_SCORE_3</th>\n",
       "    </tr>\n",
       "  </thead>\n",
       "  <tbody>\n",
       "    <tr>\n",
       "      <th>0</th>\n",
       "      <td>201468</td>\n",
       "      <td>333538</td>\n",
       "      <td>0</td>\n",
       "      <td>Revolving loans</td>\n",
       "      <td>F</td>\n",
       "      <td>1</td>\n",
       "      <td>67500.0</td>\n",
       "      <td>202500.0</td>\n",
       "      <td>10125.0</td>\n",
       "      <td>202500.0</td>\n",
       "      <td>...</td>\n",
       "      <td>-11539</td>\n",
       "      <td>-921</td>\n",
       "      <td>-119.0</td>\n",
       "      <td>-2757</td>\n",
       "      <td>TUESDAY</td>\n",
       "      <td>18</td>\n",
       "      <td>Business Entity Type 3</td>\n",
       "      <td>0.572805</td>\n",
       "      <td>0.608276</td>\n",
       "      <td>NaN</td>\n",
       "    </tr>\n",
       "    <tr>\n",
       "      <th>1</th>\n",
       "      <td>264803</td>\n",
       "      <td>406644</td>\n",
       "      <td>0</td>\n",
       "      <td>Cash loans</td>\n",
       "      <td>F</td>\n",
       "      <td>1</td>\n",
       "      <td>202500.0</td>\n",
       "      <td>976711.5</td>\n",
       "      <td>49869.0</td>\n",
       "      <td>873000.0</td>\n",
       "      <td>...</td>\n",
       "      <td>-15743</td>\n",
       "      <td>-4482</td>\n",
       "      <td>-1797.0</td>\n",
       "      <td>-2455</td>\n",
       "      <td>TUESDAY</td>\n",
       "      <td>14</td>\n",
       "      <td>Other</td>\n",
       "      <td>0.655600</td>\n",
       "      <td>0.684298</td>\n",
       "      <td>NaN</td>\n",
       "    </tr>\n",
       "    <tr>\n",
       "      <th>2</th>\n",
       "      <td>137208</td>\n",
       "      <td>259130</td>\n",
       "      <td>0</td>\n",
       "      <td>Cash loans</td>\n",
       "      <td>F</td>\n",
       "      <td>0</td>\n",
       "      <td>180000.0</td>\n",
       "      <td>407520.0</td>\n",
       "      <td>25060.5</td>\n",
       "      <td>360000.0</td>\n",
       "      <td>...</td>\n",
       "      <td>-20775</td>\n",
       "      <td>365243</td>\n",
       "      <td>-8737.0</td>\n",
       "      <td>-4312</td>\n",
       "      <td>THURSDAY</td>\n",
       "      <td>14</td>\n",
       "      <td>NA1</td>\n",
       "      <td>NaN</td>\n",
       "      <td>0.580687</td>\n",
       "      <td>0.749022</td>\n",
       "    </tr>\n",
       "    <tr>\n",
       "      <th>3</th>\n",
       "      <td>269220</td>\n",
       "      <td>411997</td>\n",
       "      <td>0</td>\n",
       "      <td>Cash loans</td>\n",
       "      <td>M</td>\n",
       "      <td>0</td>\n",
       "      <td>225000.0</td>\n",
       "      <td>808650.0</td>\n",
       "      <td>26086.5</td>\n",
       "      <td>675000.0</td>\n",
       "      <td>...</td>\n",
       "      <td>-20659</td>\n",
       "      <td>-10455</td>\n",
       "      <td>-4998.0</td>\n",
       "      <td>-4010</td>\n",
       "      <td>WEDNESDAY</td>\n",
       "      <td>10</td>\n",
       "      <td>Culture</td>\n",
       "      <td>NaN</td>\n",
       "      <td>0.623740</td>\n",
       "      <td>0.710674</td>\n",
       "    </tr>\n",
       "    <tr>\n",
       "      <th>4</th>\n",
       "      <td>122096</td>\n",
       "      <td>241559</td>\n",
       "      <td>0</td>\n",
       "      <td>Revolving loans</td>\n",
       "      <td>M</td>\n",
       "      <td>0</td>\n",
       "      <td>135000.0</td>\n",
       "      <td>180000.0</td>\n",
       "      <td>9000.0</td>\n",
       "      <td>180000.0</td>\n",
       "      <td>...</td>\n",
       "      <td>-9013</td>\n",
       "      <td>-1190</td>\n",
       "      <td>-3524.0</td>\n",
       "      <td>-1644</td>\n",
       "      <td>SUNDAY</td>\n",
       "      <td>11</td>\n",
       "      <td>Construction</td>\n",
       "      <td>0.175511</td>\n",
       "      <td>0.492994</td>\n",
       "      <td>0.085595</td>\n",
       "    </tr>\n",
       "  </tbody>\n",
       "</table>\n",
       "<p>5 rows × 24 columns</p>\n",
       "</div>"
      ],
      "text/plain": [
       "   Unnamed: 0   LN_ID  TARGET    CONTRACT_TYPE GENDER  NUM_CHILDREN    INCOME  \\\n",
       "0      201468  333538       0  Revolving loans      F             1   67500.0   \n",
       "1      264803  406644       0       Cash loans      F             1  202500.0   \n",
       "2      137208  259130       0       Cash loans      F             0  180000.0   \n",
       "3      269220  411997       0       Cash loans      M             0  225000.0   \n",
       "4      122096  241559       0  Revolving loans      M             0  135000.0   \n",
       "\n",
       "   APPROVED_CREDIT  ANNUITY     PRICE  ... DAYS_AGE DAYS_WORK  \\\n",
       "0         202500.0  10125.0  202500.0  ...   -11539      -921   \n",
       "1         976711.5  49869.0  873000.0  ...   -15743     -4482   \n",
       "2         407520.0  25060.5  360000.0  ...   -20775    365243   \n",
       "3         808650.0  26086.5  675000.0  ...   -20659    -10455   \n",
       "4         180000.0   9000.0  180000.0  ...    -9013     -1190   \n",
       "\n",
       "  DAYS_REGISTRATION DAYS_ID_CHANGE  WEEKDAYS_APPLY  HOUR_APPLY  \\\n",
       "0            -119.0          -2757         TUESDAY          18   \n",
       "1           -1797.0          -2455         TUESDAY          14   \n",
       "2           -8737.0          -4312        THURSDAY          14   \n",
       "3           -4998.0          -4010       WEDNESDAY          10   \n",
       "4           -3524.0          -1644          SUNDAY          11   \n",
       "\n",
       "        ORGANIZATION_TYPE  EXT_SCORE_1 EXT_SCORE_2  EXT_SCORE_3  \n",
       "0  Business Entity Type 3     0.572805    0.608276          NaN  \n",
       "1                   Other     0.655600    0.684298          NaN  \n",
       "2                     NA1          NaN    0.580687     0.749022  \n",
       "3                 Culture          NaN    0.623740     0.710674  \n",
       "4            Construction     0.175511    0.492994     0.085595  \n",
       "\n",
       "[5 rows x 24 columns]"
      ]
     },
     "execution_count": 3,
     "metadata": {},
     "output_type": "execute_result"
    }
   ],
   "source": [
    "df_train.head()"
   ]
  },
  {
   "cell_type": "code",
   "execution_count": 4,
   "metadata": {},
   "outputs": [
    {
     "data": {
      "text/plain": [
       "(61503, 24)"
      ]
     },
     "execution_count": 4,
     "metadata": {},
     "output_type": "execute_result"
    }
   ],
   "source": [
    "df_train.shape"
   ]
  },
  {
   "cell_type": "markdown",
   "metadata": {},
   "source": [
    "The training data has 61503 row and 24 column"
   ]
  },
  {
   "cell_type": "code",
   "execution_count": 5,
   "metadata": {},
   "outputs": [
    {
     "data": {
      "text/html": [
       "<div>\n",
       "<style scoped>\n",
       "    .dataframe tbody tr th:only-of-type {\n",
       "        vertical-align: middle;\n",
       "    }\n",
       "\n",
       "    .dataframe tbody tr th {\n",
       "        vertical-align: top;\n",
       "    }\n",
       "\n",
       "    .dataframe thead th {\n",
       "        text-align: right;\n",
       "    }\n",
       "</style>\n",
       "<table border=\"1\" class=\"dataframe\">\n",
       "  <thead>\n",
       "    <tr style=\"text-align: right;\">\n",
       "      <th></th>\n",
       "      <th>Unnamed: 0</th>\n",
       "      <th>LN_ID</th>\n",
       "      <th>TARGET</th>\n",
       "      <th>CONTRACT_TYPE</th>\n",
       "      <th>GENDER</th>\n",
       "      <th>NUM_CHILDREN</th>\n",
       "      <th>INCOME</th>\n",
       "      <th>APPROVED_CREDIT</th>\n",
       "      <th>ANNUITY</th>\n",
       "      <th>PRICE</th>\n",
       "      <th>...</th>\n",
       "      <th>DAYS_AGE</th>\n",
       "      <th>DAYS_WORK</th>\n",
       "      <th>DAYS_REGISTRATION</th>\n",
       "      <th>DAYS_ID_CHANGE</th>\n",
       "      <th>WEEKDAYS_APPLY</th>\n",
       "      <th>HOUR_APPLY</th>\n",
       "      <th>ORGANIZATION_TYPE</th>\n",
       "      <th>EXT_SCORE_1</th>\n",
       "      <th>EXT_SCORE_2</th>\n",
       "      <th>EXT_SCORE_3</th>\n",
       "    </tr>\n",
       "  </thead>\n",
       "  <tbody>\n",
       "    <tr>\n",
       "      <th>0</th>\n",
       "      <td>102590</td>\n",
       "      <td>219092</td>\n",
       "      <td>0</td>\n",
       "      <td>Cash loans</td>\n",
       "      <td>M</td>\n",
       "      <td>3</td>\n",
       "      <td>135000.0</td>\n",
       "      <td>871029.0</td>\n",
       "      <td>44604.0</td>\n",
       "      <td>765000.0</td>\n",
       "      <td>...</td>\n",
       "      <td>-17598</td>\n",
       "      <td>-2650</td>\n",
       "      <td>-1411.0</td>\n",
       "      <td>-1131</td>\n",
       "      <td>SATURDAY</td>\n",
       "      <td>7</td>\n",
       "      <td>Business Entity Type 3</td>\n",
       "      <td>NaN</td>\n",
       "      <td>0.145475</td>\n",
       "      <td>0.651260</td>\n",
       "    </tr>\n",
       "    <tr>\n",
       "      <th>1</th>\n",
       "      <td>35895</td>\n",
       "      <td>141577</td>\n",
       "      <td>0</td>\n",
       "      <td>Cash loans</td>\n",
       "      <td>F</td>\n",
       "      <td>0</td>\n",
       "      <td>144000.0</td>\n",
       "      <td>485640.0</td>\n",
       "      <td>34537.5</td>\n",
       "      <td>450000.0</td>\n",
       "      <td>...</td>\n",
       "      <td>-14097</td>\n",
       "      <td>-7408</td>\n",
       "      <td>-7908.0</td>\n",
       "      <td>-4872</td>\n",
       "      <td>MONDAY</td>\n",
       "      <td>14</td>\n",
       "      <td>Kindergarten</td>\n",
       "      <td>NaN</td>\n",
       "      <td>0.682675</td>\n",
       "      <td>NaN</td>\n",
       "    </tr>\n",
       "    <tr>\n",
       "      <th>2</th>\n",
       "      <td>69154</td>\n",
       "      <td>180205</td>\n",
       "      <td>0</td>\n",
       "      <td>Cash loans</td>\n",
       "      <td>F</td>\n",
       "      <td>1</td>\n",
       "      <td>90000.0</td>\n",
       "      <td>247500.0</td>\n",
       "      <td>8887.5</td>\n",
       "      <td>247500.0</td>\n",
       "      <td>...</td>\n",
       "      <td>-18384</td>\n",
       "      <td>-2826</td>\n",
       "      <td>-8226.0</td>\n",
       "      <td>-1930</td>\n",
       "      <td>SATURDAY</td>\n",
       "      <td>12</td>\n",
       "      <td>Self-employed</td>\n",
       "      <td>0.814700</td>\n",
       "      <td>0.686312</td>\n",
       "      <td>0.758393</td>\n",
       "    </tr>\n",
       "    <tr>\n",
       "      <th>3</th>\n",
       "      <td>222185</td>\n",
       "      <td>357381</td>\n",
       "      <td>0</td>\n",
       "      <td>Cash loans</td>\n",
       "      <td>M</td>\n",
       "      <td>2</td>\n",
       "      <td>112500.0</td>\n",
       "      <td>506889.0</td>\n",
       "      <td>24781.5</td>\n",
       "      <td>418500.0</td>\n",
       "      <td>...</td>\n",
       "      <td>-12170</td>\n",
       "      <td>-926</td>\n",
       "      <td>-916.0</td>\n",
       "      <td>-4048</td>\n",
       "      <td>THURSDAY</td>\n",
       "      <td>13</td>\n",
       "      <td>Other</td>\n",
       "      <td>0.399219</td>\n",
       "      <td>0.266520</td>\n",
       "      <td>0.058826</td>\n",
       "    </tr>\n",
       "    <tr>\n",
       "      <th>4</th>\n",
       "      <td>147680</td>\n",
       "      <td>271229</td>\n",
       "      <td>0</td>\n",
       "      <td>Cash loans</td>\n",
       "      <td>M</td>\n",
       "      <td>0</td>\n",
       "      <td>216000.0</td>\n",
       "      <td>450000.0</td>\n",
       "      <td>21888.0</td>\n",
       "      <td>450000.0</td>\n",
       "      <td>...</td>\n",
       "      <td>-10790</td>\n",
       "      <td>-577</td>\n",
       "      <td>-4640.0</td>\n",
       "      <td>-2035</td>\n",
       "      <td>MONDAY</td>\n",
       "      <td>14</td>\n",
       "      <td>Business Entity Type 3</td>\n",
       "      <td>0.368452</td>\n",
       "      <td>0.610483</td>\n",
       "      <td>0.392774</td>\n",
       "    </tr>\n",
       "  </tbody>\n",
       "</table>\n",
       "<p>5 rows × 24 columns</p>\n",
       "</div>"
      ],
      "text/plain": [
       "   Unnamed: 0   LN_ID  TARGET CONTRACT_TYPE GENDER  NUM_CHILDREN    INCOME  \\\n",
       "0      102590  219092       0    Cash loans      M             3  135000.0   \n",
       "1       35895  141577       0    Cash loans      F             0  144000.0   \n",
       "2       69154  180205       0    Cash loans      F             1   90000.0   \n",
       "3      222185  357381       0    Cash loans      M             2  112500.0   \n",
       "4      147680  271229       0    Cash loans      M             0  216000.0   \n",
       "\n",
       "   APPROVED_CREDIT  ANNUITY     PRICE  ... DAYS_AGE DAYS_WORK  \\\n",
       "0         871029.0  44604.0  765000.0  ...   -17598     -2650   \n",
       "1         485640.0  34537.5  450000.0  ...   -14097     -7408   \n",
       "2         247500.0   8887.5  247500.0  ...   -18384     -2826   \n",
       "3         506889.0  24781.5  418500.0  ...   -12170      -926   \n",
       "4         450000.0  21888.0  450000.0  ...   -10790      -577   \n",
       "\n",
       "  DAYS_REGISTRATION DAYS_ID_CHANGE  WEEKDAYS_APPLY  HOUR_APPLY  \\\n",
       "0           -1411.0          -1131        SATURDAY           7   \n",
       "1           -7908.0          -4872          MONDAY          14   \n",
       "2           -8226.0          -1930        SATURDAY          12   \n",
       "3            -916.0          -4048        THURSDAY          13   \n",
       "4           -4640.0          -2035          MONDAY          14   \n",
       "\n",
       "        ORGANIZATION_TYPE  EXT_SCORE_1 EXT_SCORE_2  EXT_SCORE_3  \n",
       "0  Business Entity Type 3          NaN    0.145475     0.651260  \n",
       "1            Kindergarten          NaN    0.682675          NaN  \n",
       "2           Self-employed     0.814700    0.686312     0.758393  \n",
       "3                   Other     0.399219    0.266520     0.058826  \n",
       "4  Business Entity Type 3     0.368452    0.610483     0.392774  \n",
       "\n",
       "[5 rows x 24 columns]"
      ]
     },
     "execution_count": 5,
     "metadata": {},
     "output_type": "execute_result"
    }
   ],
   "source": [
    "df_test.head()"
   ]
  },
  {
   "cell_type": "code",
   "execution_count": 6,
   "metadata": {},
   "outputs": [
    {
     "data": {
      "text/plain": [
       "(14761, 24)"
      ]
     },
     "execution_count": 6,
     "metadata": {},
     "output_type": "execute_result"
    }
   ],
   "source": [
    "df_test.shape"
   ]
  },
  {
   "cell_type": "markdown",
   "metadata": {},
   "source": [
    "The testing data is considerably smaller"
   ]
  },
  {
   "cell_type": "code",
   "execution_count": 7,
   "metadata": {},
   "outputs": [
    {
     "data": {
      "text/plain": [
       "0    56534\n",
       "1     4969\n",
       "Name: TARGET, dtype: int64"
      ]
     },
     "execution_count": 7,
     "metadata": {},
     "output_type": "execute_result"
    }
   ],
   "source": [
    "df_train['TARGET'].value_counts()"
   ]
  },
  {
   "cell_type": "markdown",
   "metadata": {},
   "source": [
    "There are 56534 transactions that are not late paying in data train"
   ]
  },
  {
   "cell_type": "code",
   "execution_count": 8,
   "metadata": {},
   "outputs": [
    {
     "data": {
      "text/plain": [
       "<matplotlib.axes._subplots.AxesSubplot at 0x1a242c3ac8>"
      ]
     },
     "execution_count": 8,
     "metadata": {},
     "output_type": "execute_result"
    },
    {
     "data": {
      "image/png": "[encoded data removed]",
      "text/plain": [
       "<Figure size 432x288 with 1 Axes>"
      ]
     },
     "metadata": {
      "needs_background": "light"
     },
     "output_type": "display_data"
    }
   ],
   "source": [
    "sns.countplot(x='TARGET',data=df_train)"
   ]
  },
  {
   "cell_type": "markdown",
   "metadata": {},
   "source": [
    "The are far more loans that were repaid on time than loans that not repaid"
   ]
  },
  {
   "cell_type": "code",
   "execution_count": 9,
   "metadata": {},
   "outputs": [
    {
     "data": {
      "text/plain": [
       "F    37745\n",
       "M    18789\n",
       "Name: GENDER, dtype: int64"
      ]
     },
     "execution_count": 9,
     "metadata": {},
     "output_type": "execute_result"
    }
   ],
   "source": [
    "df_train[(df_train['TARGET']==0)]['GENDER'].value_counts()"
   ]
  },
  {
   "cell_type": "code",
   "execution_count": 10,
   "metadata": {},
   "outputs": [
    {
     "name": "stdout",
     "output_type": "stream",
     "text": [
      "female percentage = 66.7651324866452%\n",
      "male percentage = 33.23486751335479%\n"
     ]
    }
   ],
   "source": [
    "gender_train = df_train[(df_train['TARGET']==0)]['GENDER'].count()\n",
    "female_percentage_train = (37745/gender_train)* 100\n",
    "male_percentage_train = (18789/gender_train)*100\n",
    "print('female percentage = '+str(female_percentage_train)+'%')\n",
    "print('male percentage = '+str(male_percentage_train)+'%')"
   ]
  },
  {
   "cell_type": "markdown",
   "metadata": {},
   "source": [
    "most who are not late paying are women in data train"
   ]
  },
  {
   "cell_type": "code",
   "execution_count": 11,
   "metadata": {},
   "outputs": [
    {
     "data": {
      "text/plain": [
       "Cash loans         51049\n",
       "Revolving loans     5485\n",
       "Name: CONTRACT_TYPE, dtype: int64"
      ]
     },
     "execution_count": 11,
     "metadata": {},
     "output_type": "execute_result"
    }
   ],
   "source": [
    "contract_type_train = df_train[(df_train['TARGET']==0)]['CONTRACT_TYPE'].value_counts()\n",
    "contract_type_train"
   ]
  },
  {
   "cell_type": "markdown",
   "metadata": {},
   "source": [
    "most Contract type that not late paying are Cash loans"
   ]
  },
  {
   "cell_type": "code",
   "execution_count": 12,
   "metadata": {},
   "outputs": [
    {
     "data": {
      "text/plain": [
       "Cash loans         55699\n",
       "Revolving loans     5804\n",
       "Name: CONTRACT_TYPE, dtype: int64"
      ]
     },
     "execution_count": 12,
     "metadata": {},
     "output_type": "execute_result"
    }
   ],
   "source": [
    "df_train['CONTRACT_TYPE'].value_counts()"
   ]
  },
  {
   "cell_type": "code",
   "execution_count": 13,
   "metadata": {},
   "outputs": [
    {
     "data": {
      "text/plain": [
       "0    13558\n",
       "1     1203\n",
       "Name: TARGET, dtype: int64"
      ]
     },
     "execution_count": 13,
     "metadata": {},
     "output_type": "execute_result"
    }
   ],
   "source": [
    "df_test['TARGET'].value_counts()"
   ]
  },
  {
   "cell_type": "code",
   "execution_count": 14,
   "metadata": {},
   "outputs": [
    {
     "data": {
      "text/plain": [
       "<matplotlib.axes._subplots.AxesSubplot at 0x1a24cf0cf8>"
      ]
     },
     "execution_count": 14,
     "metadata": {},
     "output_type": "execute_result"
    },
    {
     "data": {
      "image/png": "[encoded data removed]",
      "text/plain": [
       "<Figure size 432x288 with 1 Axes>"
      ]
     },
     "metadata": {
      "needs_background": "light"
     },
     "output_type": "display_data"
    }
   ],
   "source": [
    "sns.countplot(x='TARGET',data=df_test)"
   ]
  },
  {
   "cell_type": "markdown",
   "metadata": {},
   "source": [
    "The are far more loans that were repaid on time than loans that not repaid"
   ]
  },
  {
   "cell_type": "code",
   "execution_count": 15,
   "metadata": {},
   "outputs": [
    {
     "data": {
      "text/plain": [
       "F    9685\n",
       "M    5076\n",
       "Name: GENDER, dtype: int64"
      ]
     },
     "execution_count": 15,
     "metadata": {},
     "output_type": "execute_result"
    }
   ],
   "source": [
    "df_test['GENDER'].value_counts()"
   ]
  },
  {
   "cell_type": "code",
   "execution_count": 16,
   "metadata": {},
   "outputs": [
    {
     "name": "stdout",
     "output_type": "stream",
     "text": [
      "female percentage = 71.43383979938044%\n",
      "male percentage = 37.43915031715592%\n"
     ]
    }
   ],
   "source": [
    "gender_test = df_test[(df_test['TARGET']==0)]['GENDER'].count()\n",
    "female_percentage_test = (9685/gender_test)* 100\n",
    "male_percentage_test= (5076/gender_test)*100\n",
    "print('female percentage = '+str(female_percentage_test)+'%')\n",
    "print('male percentage = '+str(male_percentage_test)+'%')"
   ]
  },
  {
   "cell_type": "markdown",
   "metadata": {},
   "source": [
    "amost who are not late paying are women in data test"
   ]
  },
  {
   "cell_type": "code",
   "execution_count": 17,
   "metadata": {},
   "outputs": [
    {
     "data": {
      "text/plain": [
       "Cash loans         12156\n",
       "Revolving loans     1402\n",
       "Name: CONTRACT_TYPE, dtype: int64"
      ]
     },
     "execution_count": 17,
     "metadata": {},
     "output_type": "execute_result"
    }
   ],
   "source": [
    "contract_type_test = df_test[(df_test['TARGET']==0)]['CONTRACT_TYPE'].value_counts()\n",
    "contract_type_test"
   ]
  },
  {
   "cell_type": "markdown",
   "metadata": {},
   "source": [
    "most Contract type that not late paying are Cash loans"
   ]
  },
  {
   "cell_type": "code",
   "execution_count": 18,
   "metadata": {},
   "outputs": [
    {
     "data": {
      "text/plain": [
       "Cash loans         55699\n",
       "Revolving loans     5804\n",
       "Name: CONTRACT_TYPE, dtype: int64"
      ]
     },
     "execution_count": 18,
     "metadata": {},
     "output_type": "execute_result"
    }
   ],
   "source": [
    "df_train['CONTRACT_TYPE'].value_counts()"
   ]
  },
  {
   "cell_type": "markdown",
   "metadata": {},
   "source": [
    "## Null value"
   ]
  },
  {
   "cell_type": "code",
   "execution_count": 19,
   "metadata": {},
   "outputs": [
    {
     "data": {
      "text/plain": [
       "Unnamed: 0               0\n",
       "LN_ID                    0\n",
       "TARGET                   0\n",
       "CONTRACT_TYPE            0\n",
       "GENDER                   0\n",
       "NUM_CHILDREN             0\n",
       "INCOME                   0\n",
       "APPROVED_CREDIT          0\n",
       "ANNUITY                  1\n",
       "PRICE                   62\n",
       "INCOME_TYPE              0\n",
       "EDUCATION                0\n",
       "FAMILY_STATUS            0\n",
       "HOUSING_TYPE             0\n",
       "DAYS_AGE                 0\n",
       "DAYS_WORK                0\n",
       "DAYS_REGISTRATION        0\n",
       "DAYS_ID_CHANGE           0\n",
       "WEEKDAYS_APPLY           0\n",
       "HOUR_APPLY               0\n",
       "ORGANIZATION_TYPE        0\n",
       "EXT_SCORE_1          34845\n",
       "EXT_SCORE_2            134\n",
       "EXT_SCORE_3          12239\n",
       "dtype: int64"
      ]
     },
     "execution_count": 19,
     "metadata": {},
     "output_type": "execute_result"
    }
   ],
   "source": [
    "df_train.isnull().sum()"
   ]
  },
  {
   "cell_type": "markdown",
   "metadata": {},
   "source": [
    "There are 5 columns has missing value in training data"
   ]
  },
  {
   "cell_type": "code",
   "execution_count": 20,
   "metadata": {},
   "outputs": [
    {
     "data": {
      "text/plain": [
       "Unnamed: 0              0\n",
       "LN_ID                   0\n",
       "TARGET                  0\n",
       "CONTRACT_TYPE           0\n",
       "GENDER                  0\n",
       "NUM_CHILDREN            0\n",
       "INCOME                  0\n",
       "APPROVED_CREDIT         0\n",
       "ANNUITY                 0\n",
       "PRICE                  20\n",
       "INCOME_TYPE             0\n",
       "EDUCATION               0\n",
       "FAMILY_STATUS           0\n",
       "HOUSING_TYPE            0\n",
       "DAYS_AGE                0\n",
       "DAYS_WORK               0\n",
       "DAYS_REGISTRATION       0\n",
       "DAYS_ID_CHANGE          0\n",
       "WEEKDAYS_APPLY          0\n",
       "HOUR_APPLY              0\n",
       "ORGANIZATION_TYPE       0\n",
       "EXT_SCORE_1          8312\n",
       "EXT_SCORE_2            19\n",
       "EXT_SCORE_3          2919\n",
       "dtype: int64"
      ]
     },
     "execution_count": 20,
     "metadata": {},
     "output_type": "execute_result"
    }
   ],
   "source": [
    "df_test.isnull().sum()"
   ]
  },
  {
   "cell_type": "markdown",
   "metadata": {},
   "source": [
    "There are 4 columns has missing value in test data"
   ]
  },
  {
   "cell_type": "markdown",
   "metadata": {},
   "source": [
    "# Looking categorical feature "
   ]
  },
  {
   "cell_type": "code",
   "execution_count": 21,
   "metadata": {},
   "outputs": [
    {
     "data": {
      "text/plain": [
       "float64    8\n",
       "object     8\n",
       "int64      8\n",
       "dtype: int64"
      ]
     },
     "execution_count": 21,
     "metadata": {},
     "output_type": "execute_result"
    }
   ],
   "source": [
    "df_train.dtypes.value_counts()"
   ]
  },
  {
   "cell_type": "markdown",
   "metadata": {},
   "source": [
    "The training data has 8 float , 8 int , and 8 object"
   ]
  },
  {
   "cell_type": "code",
   "execution_count": 22,
   "metadata": {},
   "outputs": [
    {
     "data": {
      "text/plain": [
       "float64    8\n",
       "object     8\n",
       "int64      8\n",
       "dtype: int64"
      ]
     },
     "execution_count": 22,
     "metadata": {},
     "output_type": "execute_result"
    }
   ],
   "source": [
    "df_test.dtypes.value_counts()"
   ]
  },
  {
   "cell_type": "markdown",
   "metadata": {},
   "source": [
    "The testing data has 8 float , 8 int , and 8 object"
   ]
  },
  {
   "cell_type": "code",
   "execution_count": 23,
   "metadata": {},
   "outputs": [
    {
     "data": {
      "text/plain": [
       "CONTRACT_TYPE         2\n",
       "GENDER                2\n",
       "INCOME_TYPE           7\n",
       "EDUCATION             5\n",
       "FAMILY_STATUS         5\n",
       "HOUSING_TYPE          6\n",
       "WEEKDAYS_APPLY        7\n",
       "ORGANIZATION_TYPE    58\n",
       "dtype: int64"
      ]
     },
     "execution_count": 23,
     "metadata": {},
     "output_type": "execute_result"
    }
   ],
   "source": [
    "# Number of unique classes in each object column\n",
    "df_train.select_dtypes('object').apply(pd.Series.nunique, axis = 0)"
   ]
  },
  {
   "cell_type": "code",
   "execution_count": 24,
   "metadata": {},
   "outputs": [
    {
     "data": {
      "text/plain": [
       "CONTRACT_TYPE         2\n",
       "GENDER                2\n",
       "INCOME_TYPE           5\n",
       "EDUCATION             5\n",
       "FAMILY_STATUS         5\n",
       "HOUSING_TYPE          6\n",
       "WEEKDAYS_APPLY        7\n",
       "ORGANIZATION_TYPE    58\n",
       "dtype: int64"
      ]
     },
     "execution_count": 24,
     "metadata": {},
     "output_type": "execute_result"
    }
   ],
   "source": [
    "# Number of unique classes in each object column\n",
    "df_test.select_dtypes('object').apply(pd.Series.nunique, axis = 0)"
   ]
  },
  {
   "cell_type": "code",
   "execution_count": 25,
   "metadata": {},
   "outputs": [
    {
     "data": {
      "text/plain": [
       "array(['Revolving loans', 'Cash loans'], dtype=object)"
      ]
     },
     "execution_count": 25,
     "metadata": {},
     "output_type": "execute_result"
    }
   ],
   "source": [
    "df_train['CONTRACT_TYPE'].unique() # income type in training data has 7 unique class "
   ]
  },
  {
   "cell_type": "code",
   "execution_count": 26,
   "metadata": {},
   "outputs": [
    {
     "data": {
      "text/plain": [
       "array(['Working', 'Pensioner', 'Commercial associate', 'State servant',\n",
       "       'Unemployed'], dtype=object)"
      ]
     },
     "execution_count": 26,
     "metadata": {},
     "output_type": "execute_result"
    }
   ],
   "source": [
    "df_test['INCOME_TYPE'].unique() #income type in testing data has 5 unique class"
   ]
  },
  {
   "cell_type": "markdown",
   "metadata": {},
   "source": [
    "# Feature Engineering"
   ]
  },
  {
   "cell_type": "code",
   "execution_count": 27,
   "metadata": {},
   "outputs": [
    {
     "name": "stdout",
     "output_type": "stream",
     "text": [
      "2 columns were label encoded.\n"
     ]
    }
   ],
   "source": [
    "le = LabelEncoder()\n",
    "count = 0\n",
    "\n",
    "# Iterate through the columns\n",
    "for col in df_train:\n",
    "    if df_train[col].dtype == 'object':\n",
    "        # If 2 or fewer unique categories\n",
    "        if len(list(df_train[col].unique())) <= 2:\n",
    "            # Train on the training data\n",
    "            le.fit(df_train[col])\n",
    "            # Transform both training and testing data\n",
    "            df_train[col] = le.transform(df_train[col])\n",
    "            df_test[col] = le.transform(df_test[col])\n",
    "            \n",
    "            # Keep track of how many columns were label encoded\n",
    "            count += 1\n",
    "            \n",
    "print('%d columns were label encoded.' % count)"
   ]
  },
  {
   "cell_type": "markdown",
   "metadata": {},
   "source": [
    "Encoding label with <= 2 unique value"
   ]
  },
  {
   "cell_type": "code",
   "execution_count": 28,
   "metadata": {},
   "outputs": [
    {
     "name": "stdout",
     "output_type": "stream",
     "text": [
      "Training Features shape:  (61503, 106)\n",
      "Testing Features shape:  (14761, 104)\n"
     ]
    }
   ],
   "source": [
    "# one-hot encoding of categorical variables\n",
    "df_train = pd.get_dummies(df_train)\n",
    "df_test = pd.get_dummies(df_test)\n",
    "\n",
    "print('Training Features shape: ', df_train.shape)\n",
    "print('Testing Features shape: ', df_test.shape)"
   ]
  },
  {
   "cell_type": "markdown",
   "metadata": {},
   "source": [
    "Encoding label with >= 2 unique value"
   ]
  },
  {
   "cell_type": "markdown",
   "metadata": {},
   "source": [
    "## Drop column  and fill data"
   ]
  },
  {
   "cell_type": "code",
   "execution_count": 29,
   "metadata": {},
   "outputs": [
    {
     "data": {
      "text/html": [
       "<div>\n",
       "<style scoped>\n",
       "    .dataframe tbody tr th:only-of-type {\n",
       "        vertical-align: middle;\n",
       "    }\n",
       "\n",
       "    .dataframe tbody tr th {\n",
       "        vertical-align: top;\n",
       "    }\n",
       "\n",
       "    .dataframe thead th {\n",
       "        text-align: right;\n",
       "    }\n",
       "</style>\n",
       "<table border=\"1\" class=\"dataframe\">\n",
       "  <thead>\n",
       "    <tr style=\"text-align: right;\">\n",
       "      <th></th>\n",
       "      <th>TARGET</th>\n",
       "      <th>CONTRACT_TYPE</th>\n",
       "      <th>GENDER</th>\n",
       "      <th>NUM_CHILDREN</th>\n",
       "      <th>INCOME</th>\n",
       "      <th>APPROVED_CREDIT</th>\n",
       "      <th>ANNUITY</th>\n",
       "      <th>PRICE</th>\n",
       "      <th>DAYS_AGE</th>\n",
       "      <th>DAYS_WORK</th>\n",
       "      <th>...</th>\n",
       "      <th>ORGANIZATION_TYPE_Trade: type 3</th>\n",
       "      <th>ORGANIZATION_TYPE_Trade: type 4</th>\n",
       "      <th>ORGANIZATION_TYPE_Trade: type 5</th>\n",
       "      <th>ORGANIZATION_TYPE_Trade: type 6</th>\n",
       "      <th>ORGANIZATION_TYPE_Trade: type 7</th>\n",
       "      <th>ORGANIZATION_TYPE_Transport: type 1</th>\n",
       "      <th>ORGANIZATION_TYPE_Transport: type 2</th>\n",
       "      <th>ORGANIZATION_TYPE_Transport: type 3</th>\n",
       "      <th>ORGANIZATION_TYPE_Transport: type 4</th>\n",
       "      <th>ORGANIZATION_TYPE_University</th>\n",
       "    </tr>\n",
       "  </thead>\n",
       "  <tbody>\n",
       "    <tr>\n",
       "      <th>0</th>\n",
       "      <td>0</td>\n",
       "      <td>0</td>\n",
       "      <td>1</td>\n",
       "      <td>3</td>\n",
       "      <td>135000.0</td>\n",
       "      <td>871029.0</td>\n",
       "      <td>44604.0</td>\n",
       "      <td>765000.0</td>\n",
       "      <td>-17598</td>\n",
       "      <td>-2650</td>\n",
       "      <td>...</td>\n",
       "      <td>0</td>\n",
       "      <td>0</td>\n",
       "      <td>0</td>\n",
       "      <td>0</td>\n",
       "      <td>0</td>\n",
       "      <td>0</td>\n",
       "      <td>0</td>\n",
       "      <td>0</td>\n",
       "      <td>0</td>\n",
       "      <td>0</td>\n",
       "    </tr>\n",
       "    <tr>\n",
       "      <th>1</th>\n",
       "      <td>0</td>\n",
       "      <td>0</td>\n",
       "      <td>0</td>\n",
       "      <td>0</td>\n",
       "      <td>144000.0</td>\n",
       "      <td>485640.0</td>\n",
       "      <td>34537.5</td>\n",
       "      <td>450000.0</td>\n",
       "      <td>-14097</td>\n",
       "      <td>-7408</td>\n",
       "      <td>...</td>\n",
       "      <td>0</td>\n",
       "      <td>0</td>\n",
       "      <td>0</td>\n",
       "      <td>0</td>\n",
       "      <td>0</td>\n",
       "      <td>0</td>\n",
       "      <td>0</td>\n",
       "      <td>0</td>\n",
       "      <td>0</td>\n",
       "      <td>0</td>\n",
       "    </tr>\n",
       "    <tr>\n",
       "      <th>2</th>\n",
       "      <td>0</td>\n",
       "      <td>0</td>\n",
       "      <td>0</td>\n",
       "      <td>1</td>\n",
       "      <td>90000.0</td>\n",
       "      <td>247500.0</td>\n",
       "      <td>8887.5</td>\n",
       "      <td>247500.0</td>\n",
       "      <td>-18384</td>\n",
       "      <td>-2826</td>\n",
       "      <td>...</td>\n",
       "      <td>0</td>\n",
       "      <td>0</td>\n",
       "      <td>0</td>\n",
       "      <td>0</td>\n",
       "      <td>0</td>\n",
       "      <td>0</td>\n",
       "      <td>0</td>\n",
       "      <td>0</td>\n",
       "      <td>0</td>\n",
       "      <td>0</td>\n",
       "    </tr>\n",
       "    <tr>\n",
       "      <th>3</th>\n",
       "      <td>0</td>\n",
       "      <td>0</td>\n",
       "      <td>1</td>\n",
       "      <td>2</td>\n",
       "      <td>112500.0</td>\n",
       "      <td>506889.0</td>\n",
       "      <td>24781.5</td>\n",
       "      <td>418500.0</td>\n",
       "      <td>-12170</td>\n",
       "      <td>-926</td>\n",
       "      <td>...</td>\n",
       "      <td>0</td>\n",
       "      <td>0</td>\n",
       "      <td>0</td>\n",
       "      <td>0</td>\n",
       "      <td>0</td>\n",
       "      <td>0</td>\n",
       "      <td>0</td>\n",
       "      <td>0</td>\n",
       "      <td>0</td>\n",
       "      <td>0</td>\n",
       "    </tr>\n",
       "    <tr>\n",
       "      <th>4</th>\n",
       "      <td>0</td>\n",
       "      <td>0</td>\n",
       "      <td>1</td>\n",
       "      <td>0</td>\n",
       "      <td>216000.0</td>\n",
       "      <td>450000.0</td>\n",
       "      <td>21888.0</td>\n",
       "      <td>450000.0</td>\n",
       "      <td>-10790</td>\n",
       "      <td>-577</td>\n",
       "      <td>...</td>\n",
       "      <td>0</td>\n",
       "      <td>0</td>\n",
       "      <td>0</td>\n",
       "      <td>0</td>\n",
       "      <td>0</td>\n",
       "      <td>0</td>\n",
       "      <td>0</td>\n",
       "      <td>0</td>\n",
       "      <td>0</td>\n",
       "      <td>0</td>\n",
       "    </tr>\n",
       "  </tbody>\n",
       "</table>\n",
       "<p>5 rows × 102 columns</p>\n",
       "</div>"
      ],
      "text/plain": [
       "   TARGET  CONTRACT_TYPE  GENDER  NUM_CHILDREN    INCOME  APPROVED_CREDIT  \\\n",
       "0       0              0       1             3  135000.0         871029.0   \n",
       "1       0              0       0             0  144000.0         485640.0   \n",
       "2       0              0       0             1   90000.0         247500.0   \n",
       "3       0              0       1             2  112500.0         506889.0   \n",
       "4       0              0       1             0  216000.0         450000.0   \n",
       "\n",
       "   ANNUITY     PRICE  DAYS_AGE  DAYS_WORK  ...  \\\n",
       "0  44604.0  765000.0    -17598      -2650  ...   \n",
       "1  34537.5  450000.0    -14097      -7408  ...   \n",
       "2   8887.5  247500.0    -18384      -2826  ...   \n",
       "3  24781.5  418500.0    -12170       -926  ...   \n",
       "4  21888.0  450000.0    -10790       -577  ...   \n",
       "\n",
       "   ORGANIZATION_TYPE_Trade: type 3  ORGANIZATION_TYPE_Trade: type 4  \\\n",
       "0                                0                                0   \n",
       "1                                0                                0   \n",
       "2                                0                                0   \n",
       "3                                0                                0   \n",
       "4                                0                                0   \n",
       "\n",
       "   ORGANIZATION_TYPE_Trade: type 5  ORGANIZATION_TYPE_Trade: type 6  \\\n",
       "0                                0                                0   \n",
       "1                                0                                0   \n",
       "2                                0                                0   \n",
       "3                                0                                0   \n",
       "4                                0                                0   \n",
       "\n",
       "   ORGANIZATION_TYPE_Trade: type 7  ORGANIZATION_TYPE_Transport: type 1  \\\n",
       "0                                0                                    0   \n",
       "1                                0                                    0   \n",
       "2                                0                                    0   \n",
       "3                                0                                    0   \n",
       "4                                0                                    0   \n",
       "\n",
       "   ORGANIZATION_TYPE_Transport: type 2  ORGANIZATION_TYPE_Transport: type 3  \\\n",
       "0                                    0                                    0   \n",
       "1                                    0                                    0   \n",
       "2                                    0                                    0   \n",
       "3                                    0                                    0   \n",
       "4                                    0                                    0   \n",
       "\n",
       "   ORGANIZATION_TYPE_Transport: type 4  ORGANIZATION_TYPE_University  \n",
       "0                                    0                             0  \n",
       "1                                    0                             0  \n",
       "2                                    0                             0  \n",
       "3                                    0                             0  \n",
       "4                                    0                             0  \n",
       "\n",
       "[5 rows x 102 columns]"
      ]
     },
     "execution_count": 29,
     "metadata": {},
     "output_type": "execute_result"
    }
   ],
   "source": [
    "# Train Data\n",
    "# drop unamed column and ln_id column   , no need for machine learning\n",
    "df_train.drop(['Unnamed: 0'], axis=1,inplace=True)\n",
    "df_train.drop(['LN_ID'], axis=1,inplace=True)\n",
    "\n",
    "#fill ANNUITY missing value using mean \n",
    "df_train['ANNUITY'].fillna(value=df_train['ANNUITY'].mean(),inplace=True)\n",
    "#fill PRICE missing value using mean \n",
    "df_train['PRICE'].fillna(value=df_train['PRICE'].mean(),inplace=True)\n",
    "#EXT_SCORE_1 has a 34845 missing value which is > 50 % data , but we need this variable \n",
    "df_train['EXT_SCORE_1'].fillna(value=df_train['EXT_SCORE_1'].mean(),inplace=True)\n",
    "#fill EXT_SCORE_2 missing value using mean \n",
    "df_train['EXT_SCORE_2'].fillna(value=df_train['EXT_SCORE_2'].mean(),inplace=True)\n",
    "#fill EXT_SCORE_3 missing value using mean \n",
    "df_train['EXT_SCORE_3'].fillna(value=df_train['EXT_SCORE_3'].mean(),inplace=True)\n",
    "\n",
    "#drop income type_businessman and income type_Student , not fit with test data\n",
    "df_train.drop(['INCOME_TYPE_Businessman'], axis=1,inplace=True)\n",
    "df_train.drop(['INCOME_TYPE_Student'], axis=1,inplace=True)\n",
    "\n",
    "# Test Data\n",
    "\n",
    "# drop unamed column and ln_id column   , no need for machine learning\n",
    "df_test.drop(['Unnamed: 0'], axis=1,inplace=True)\n",
    "df_test.drop(['LN_ID'], axis=1,inplace=True)\\\n",
    "\n",
    "#fill PRICE missing value using mean \n",
    "df_test['PRICE'].fillna(value=df_test['PRICE'].mean(),inplace=True)\n",
    "#EXT_SCORE_1 has a 34845 missing value which is > 50 % data , but we need this variable \n",
    "df_test['EXT_SCORE_1'].fillna(value=df_test['EXT_SCORE_1'].mean(),inplace=True)\n",
    "#fill EXT_SCORE_2 missing value using mean \n",
    "df_test['EXT_SCORE_2'].fillna(value=df_test['EXT_SCORE_2'].mean(),inplace=True)\n",
    "#fill EXT_SCORE_3 missing value using mean \n",
    "df_test['EXT_SCORE_3'].fillna(value=df_test['EXT_SCORE_3'].mean(),inplace=True)\n",
    "df_test.head()"
   ]
  },
  {
   "cell_type": "markdown",
   "metadata": {},
   "source": [
    "# Correlation value"
   ]
  },
  {
   "cell_type": "code",
   "execution_count": 30,
   "metadata": {
    "scrolled": true
   },
   "outputs": [
    {
     "name": "stdout",
     "output_type": "stream",
     "text": [
      "Most Positive Correlations:\n",
      " DAYS_ID_CHANGE         0.055748\n",
      "GENDER                 0.059428\n",
      "INCOME_TYPE_Working    0.061628\n",
      "DAYS_AGE               0.083524\n",
      "TARGET                 1.000000\n",
      "Name: TARGET, dtype: float64\n",
      "\n",
      "Most Negative Correlations:\n",
      " EXT_SCORE_3                  -0.160158\n",
      "EXT_SCORE_2                  -0.159255\n",
      "EXT_SCORE_1                  -0.111291\n",
      "EDUCATION_Higher education   -0.061117\n",
      "INCOME_TYPE_Pensioner        -0.051060\n",
      "Name: TARGET, dtype: float64\n"
     ]
    }
   ],
   "source": [
    "# Find correlations with the target and sort\n",
    "correlations = df_train.corr()['TARGET'].sort_values()\n",
    "\n",
    "# Display correlations\n",
    "print('Most Positive Correlations:\\n', correlations.tail(5))\n",
    "print('\\nMost Negative Correlations:\\n', correlations.head(5))"
   ]
  },
  {
   "cell_type": "markdown",
   "metadata": {},
   "source": [
    "# Machine Learning"
   ]
  },
  {
   "cell_type": "markdown",
   "metadata": {},
   "source": [
    "Split X_train and y_train"
   ]
  },
  {
   "cell_type": "code",
   "execution_count": 31,
   "metadata": {},
   "outputs": [],
   "source": [
    "#Creating the X and y variables\n",
    "X_train = df_train.drop('TARGET', 1).values\n",
    "y_train = df_train[\"TARGET\"].values\n",
    "\n",
    "X_test = df_test.drop('TARGET', 1).values\n",
    "y_test = df_test[\"TARGET\"].values\n"
   ]
  },
  {
   "cell_type": "code",
   "execution_count": 32,
   "metadata": {},
   "outputs": [
    {
     "name": "stderr",
     "output_type": "stream",
     "text": [
      "/anaconda3/lib/python3.7/site-packages/sklearn/ensemble/forest.py:246: FutureWarning: The default value of n_estimators will change from 10 in version 0.20 to 100 in 0.22.\n",
      "  \"10 in version 0.20 to 100 in 0.22.\", FutureWarning)\n"
     ]
    },
    {
     "name": "stdout",
     "output_type": "stream",
     "text": [
      "Accuracy of Random Forest classifier on training set: 0.98\n",
      "Accuracy of Random Forest classifier on test set: 0.92\n"
     ]
    }
   ],
   "source": [
    "from sklearn.ensemble import RandomForestClassifier\n",
    "RF = RandomForestClassifier()\n",
    "RFL = RF.fit(X_train, y_train)\n",
    "print('Accuracy of Random Forest classifier on training set: {:.2f}'\n",
    "     .format(RF.score(X_train, y_train)))\n",
    "print('Accuracy of Random Forest classifier on test set: {:.2f}'\n",
    "     .format(RF.score(X_test, y_test)))"
   ]
  },
  {
   "cell_type": "code",
   "execution_count": 33,
   "metadata": {},
   "outputs": [
    {
     "name": "stdout",
     "output_type": "stream",
     "text": [
      "Accuracy of Decision Tree classifier on training set: 1.00\n",
      "Accuracy of Decision Tree classifier on test set: 0.85\n"
     ]
    }
   ],
   "source": [
    "from sklearn.tree import DecisionTreeClassifier\n",
    "clf = DecisionTreeClassifier().fit(X_train, y_train)\n",
    "print('Accuracy of Decision Tree classifier on training set: {:.2f}'\n",
    "     .format(clf.score(X_train, y_train)))\n",
    "print('Accuracy of Decision Tree classifier on test set: {:.2f}'\n",
    "     .format(clf.score(X_test, y_test)))"
   ]
  },
  {
   "cell_type": "code",
   "execution_count": 34,
   "metadata": {},
   "outputs": [
    {
     "name": "stdout",
     "output_type": "stream",
     "text": [
      "Accuracy of K-NN classifier on training set: 0.92\n",
      "Accuracy of K-NN classifier on test set: 0.91\n"
     ]
    }
   ],
   "source": [
    "from sklearn.neighbors import KNeighborsClassifier\n",
    "knn = KNeighborsClassifier()\n",
    "knn.fit(X_train, y_train)\n",
    "print('Accuracy of K-NN classifier on training set: {:.2f}'\n",
    "     .format(knn.score(X_train, y_train)))\n",
    "print('Accuracy of K-NN classifier on test set: {:.2f}'\n",
    "     .format(knn.score(X_test, y_test)))"
   ]
  },
  {
   "cell_type": "markdown",
   "metadata": {},
   "source": [
    "The Random Forest model was the most accurate model that we tried"
   ]
  },
  {
   "cell_type": "markdown",
   "metadata": {},
   "source": [
    "# Random Forest"
   ]
  },
  {
   "cell_type": "code",
   "execution_count": 35,
   "metadata": {},
   "outputs": [
    {
     "name": "stdout",
     "output_type": "stream",
     "text": [
      "[[13543    15]\n",
      " [ 1191    12]]\n",
      "              precision    recall  f1-score   support\n",
      "\n",
      "           0       0.92      1.00      0.96     13558\n",
      "           1       0.44      0.01      0.02      1203\n",
      "\n",
      "   micro avg       0.92      0.92      0.92     14761\n",
      "   macro avg       0.68      0.50      0.49     14761\n",
      "weighted avg       0.88      0.92      0.88     14761\n",
      "\n"
     ]
    }
   ],
   "source": [
    "from sklearn.metrics import classification_report\n",
    "from sklearn.metrics import confusion_matrix\n",
    "pred = RF.predict(X_test)\n",
    "print(confusion_matrix(y_test, pred))\n",
    "print(classification_report(y_test, pred))"
   ]
  },
  {
   "cell_type": "markdown",
   "metadata": {},
   "source": [
    "Most Appropriate model to measure = f1-score\n",
    "\n",
    "We don’t really want to carry both Precision and Recall in our pockets every time we make a model for solving a classification problem. So it’s best if we can get a single score that kind of represents both Precision(P) and Recall(R) which is f1-score."
   ]
  },
  {
   "cell_type": "markdown",
   "metadata": {},
   "source": [
    "# Important features"
   ]
  },
  {
   "cell_type": "code",
   "execution_count": 36,
   "metadata": {},
   "outputs": [
    {
     "data": {
      "text/html": [
       "<div>\n",
       "<style scoped>\n",
       "    .dataframe tbody tr th:only-of-type {\n",
       "        vertical-align: middle;\n",
       "    }\n",
       "\n",
       "    .dataframe tbody tr th {\n",
       "        vertical-align: top;\n",
       "    }\n",
       "\n",
       "    .dataframe thead th {\n",
       "        text-align: right;\n",
       "    }\n",
       "</style>\n",
       "<table border=\"1\" class=\"dataframe\">\n",
       "  <thead>\n",
       "    <tr style=\"text-align: right;\">\n",
       "      <th></th>\n",
       "      <th>0</th>\n",
       "      <th>1</th>\n",
       "    </tr>\n",
       "  </thead>\n",
       "  <tbody>\n",
       "    <tr>\n",
       "      <th>0</th>\n",
       "      <td>0.0916</td>\n",
       "      <td>EXT_SCORE_1</td>\n",
       "    </tr>\n",
       "    <tr>\n",
       "      <th>1</th>\n",
       "      <td>0.0795</td>\n",
       "      <td>EXT_SCORE_2</td>\n",
       "    </tr>\n",
       "    <tr>\n",
       "      <th>2</th>\n",
       "      <td>0.0686</td>\n",
       "      <td>DAYS_REGISTRATION</td>\n",
       "    </tr>\n",
       "    <tr>\n",
       "      <th>3</th>\n",
       "      <td>0.0682</td>\n",
       "      <td>PRICE</td>\n",
       "    </tr>\n",
       "    <tr>\n",
       "      <th>4</th>\n",
       "      <td>0.0676</td>\n",
       "      <td>DAYS_WORK</td>\n",
       "    </tr>\n",
       "  </tbody>\n",
       "</table>\n",
       "</div>"
      ],
      "text/plain": [
       "        0                  1\n",
       "0  0.0916        EXT_SCORE_1\n",
       "1  0.0795        EXT_SCORE_2\n",
       "2  0.0686  DAYS_REGISTRATION\n",
       "3  0.0682              PRICE\n",
       "4  0.0676          DAYS_WORK"
      ]
     },
     "execution_count": 36,
     "metadata": {},
     "output_type": "execute_result"
    }
   ],
   "source": [
    "features = list(df_train.columns)\n",
    "x = sorted(zip(map(lambda x: round(x, 4), RF.feature_importances_), features), \n",
    "             reverse=True)\n",
    "x.sort(reverse=True)\n",
    "featureimportances = pd.DataFrame(x) \n",
    "featureimportances.head()"
   ]
  },
  {
   "cell_type": "markdown",
   "metadata": {},
   "source": [
    "Important feature EXT_SCORE 1, EXT_SCORE 2, PRICE"
   ]
  },
  {
   "cell_type": "code",
   "execution_count": null,
   "metadata": {},
   "outputs": [],
   "source": []
  }
 ],
 "metadata": {
  "kernelspec": {
   "display_name": "Python 3",
   "language": "python",
   "name": "python3"
  },
  "language_info": {
   "codemirror_mode": {
    "name": "ipython",
    "version": 3
   },
   "file_extension": ".py",
   "mimetype": "text/x-python",
   "name": "python",
   "nbconvert_exporter": "python",
   "pygments_lexer": "ipython3",
   "version": "3.7.3"
  }
 },
 "nbformat": 4,
 "nbformat_minor": 2
}
